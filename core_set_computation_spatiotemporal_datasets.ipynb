{
 "cells": [
  {
   "cell_type": "code",
   "execution_count": null,
   "id": "1f5c4159",
   "metadata": {},
   "outputs": [],
   "source": [
    "import argparse\n",
    "import numpy as np\n",
    "import os\n",
    "import sys\n",
    "import yaml\n",
    "\n",
    "from lib.utils import load_graph_data\n",
    "\n",
    "## build an autoencoder model based on DCRNN architecture\n",
    "from model.pytorch.dcrnn_supervisor import DCRNNSupervisor"
   ]
  },
  {
   "cell_type": "markdown",
   "id": "9db3cde7",
   "metadata": {},
   "source": [
    "### traffic speed sensor LA dataset"
   ]
  },
  {
   "cell_type": "code",
   "execution_count": null,
   "id": "ff97f7e4",
   "metadata": {},
   "outputs": [],
   "source": [
    "config_filename = 'data/model/embedding/config-metr-la.yaml'\n",
    "with open(config_filename) as f:\n",
    "    supervisor_config = yaml.load(f)\n",
    "\n",
    "    graph_pkl_filename = supervisor_config['data'].get('graph_pkl_filename')\n",
    "    sensor_ids, sensor_id_to_ind, adj_mx = load_graph_data(graph_pkl_filename)\n",
    "\n",
    "    supervisor = DCRNNSupervisor(adj_mx=adj_mx, **supervisor_config)\n",
    "    test_embeddings = supervisor.compute_embedding('test')\n",
    "    val_embeddings = supervisor.compute_embedding('val')"
   ]
  },
  {
   "cell_type": "markdown",
   "id": "66596b38",
   "metadata": {},
   "source": [
    "### traffic speed sensor BAY dataset"
   ]
  },
  {
   "cell_type": "code",
   "execution_count": null,
   "id": "61f0145e",
   "metadata": {},
   "outputs": [],
   "source": [
    "config_filename = 'data/model/embedding/config-pems-bay.yaml'\n",
    "del supervisor\n",
    "with open(config_filename) as f:\n",
    "    supervisor_config = yaml.load(f)\n",
    "\n",
    "    graph_pkl_filename = supervisor_config['data'].get('graph_pkl_filename')\n",
    "    sensor_ids, sensor_id_to_ind, adj_mx = load_graph_data(graph_pkl_filename)\n",
    "\n",
    "    supervisor = DCRNNSupervisor(adj_mx=adj_mx, **supervisor_config)\n",
    "    bay_embeddings = supervisor.compute_embedding('test')"
   ]
  },
  {
   "cell_type": "markdown",
   "id": "d526d8f4",
   "metadata": {},
   "source": [
    "### air pollution PM2.5 dataset"
   ]
  },
  {
   "cell_type": "code",
   "execution_count": null,
   "id": "a72f3c2c",
   "metadata": {},
   "outputs": [],
   "source": [
    "config_filename = 'data/model/embedding/pollution_pm25.yaml'\n",
    "#del supervisor\n",
    "with open(config_filename) as f:\n",
    "    supervisor_config = yaml.load(f)\n",
    "\n",
    "    graph_pkl_filename = supervisor_config['data'].get('graph_pkl_filename')\n",
    "    sensor_ids, sensor_id_to_ind, adj_mx = load_graph_data(graph_pkl_filename)\n",
    "\n",
    "    supervisor = DCRNNSupervisor(adj_mx=adj_mx, **supervisor_config)\n",
    "    pm25_embeddings = supervisor.compute_embedding('test')"
   ]
  },
  {
   "cell_type": "markdown",
   "id": "d3b5aaec",
   "metadata": {},
   "source": [
    "### air pollution PM10 dataset"
   ]
  },
  {
   "cell_type": "code",
   "execution_count": null,
   "id": "62e4462d",
   "metadata": {},
   "outputs": [],
   "source": [
    "config_filename = 'data/model/embedding/pollution_pm10.yaml'\n",
    "del supervisor\n",
    "with open(config_filename) as f:\n",
    "    supervisor_config = yaml.load(f)\n",
    "\n",
    "    graph_pkl_filename = supervisor_config['data'].get('graph_pkl_filename')\n",
    "    sensor_ids, sensor_id_to_ind, adj_mx = load_graph_data(graph_pkl_filename)\n",
    "\n",
    "    supervisor = DCRNNSupervisor(adj_mx=adj_mx, **supervisor_config)\n",
    "    pm10_embeddings = supervisor.compute_embedding('test')"
   ]
  },
  {
   "cell_type": "markdown",
   "id": "aa4e15d1",
   "metadata": {},
   "source": [
    "### dataset embedding shape"
   ]
  },
  {
   "cell_type": "code",
   "execution_count": 9,
   "id": "59c4dd3c",
   "metadata": {},
   "outputs": [
    {
     "name": "stdout",
     "output_type": "stream",
     "text": [
      "(6912, 13248)\n",
      "(3456, 13248)\n",
      "(8000, 20800)\n",
      "(6528, 1600)\n",
      "(6528, 2368)\n"
     ]
    }
   ],
   "source": [
    "print(test_embeddings.shape)\n",
    "print(val_embeddings.shape)\n",
    "print(bay_embeddings.shape)\n",
    "print(pm25_embeddings.shape)\n",
    "print(pm10_embeddings.shape)"
   ]
  },
  {
   "cell_type": "markdown",
   "id": "8976cdaa",
   "metadata": {},
   "source": [
    "### k-center greedy algorithm"
   ]
  },
  {
   "cell_type": "code",
   "execution_count": 11,
   "id": "c3de50d6",
   "metadata": {},
   "outputs": [],
   "source": [
    "import numpy as np\n",
    "from sklearn.metrics import pairwise_distances\n",
    "\n",
    "def update_distances(features, cluster_center, min_dist, only_new=True, reset_dist=False):\n",
    "    if reset_dist:\n",
    "      min_dist = None\n",
    "    if cluster_center:\n",
    "      # Update min_distances for all examples given new cluster center.\n",
    "      x = features[cluster_center]\n",
    "      dist = pairwise_distances(features, x, metric='euclidean')\n",
    "\n",
    "      if min_dist is None:\n",
    "        min_dist = np.min(dist, axis=1).reshape(-1,1)\n",
    "      else:\n",
    "        min_dist = np.minimum(min_dist, dist)\n",
    "        \n",
    "    return min_dist\n",
    "        \n",
    "def k_center(features, k, **kwargs):\n",
    "    cluster_centers = []\n",
    "    cluster_delta = []\n",
    "    k_delta = 0\n",
    "    n_obs = features.shape[0]\n",
    "    min_dist = None\n",
    "\n",
    "    for _ in range(k):\n",
    "      if min_dist is None:\n",
    "        # Initialize centers with a randomly selected datapoint\n",
    "        #ind = np.random.choice(np.arange(n_obs))\n",
    "        ind = 0\n",
    "      else:\n",
    "        ind = np.argmax(min_dist)\n",
    "\n",
    "      min_dist = update_distances(features, [ind], min_dist, only_new=True, reset_dist=False)\n",
    "      cluster_centers.append(ind)\n",
    "      k_delta = max(min_dist)\n",
    "      cluster_delta.append(k_delta)\n",
    "    print('Maximum distance from cluster centers is %0.2f'\n",
    "            % k_delta)\n",
    "\n",
    "    return cluster_centers, cluster_delta\n"
   ]
  },
  {
   "cell_type": "markdown",
   "id": "e53830b4",
   "metadata": {},
   "source": [
    "### compute core set as a k-center greedy computation"
   ]
  },
  {
   "cell_type": "code",
   "execution_count": null,
   "id": "65a65dee",
   "metadata": {},
   "outputs": [],
   "source": [
    "no_clusters = 100\n",
    "test_cluster, test_delta = k_center(test_embeddings, no_clusters)\n",
    "val_cluster, val_delta = k_center(val_embeddings, no_clusters)\n",
    "bay_cluster, bay_delta = k_center(bay_embeddings, no_clusters)\n",
    "pm25_cluster, pm25_delta = k_center(pm25_embeddings, no_clusters)\n",
    "pm10_cluster, pm10_delta = k_center(pm10_embeddings, no_clusters)"
   ]
  },
  {
   "cell_type": "markdown",
   "id": "82291264",
   "metadata": {},
   "source": [
    "### Gromov-Wasserstein distance algorithm"
   ]
  },
  {
   "cell_type": "code",
   "execution_count": 10,
   "id": "90b85ee6",
   "metadata": {},
   "outputs": [],
   "source": [
    "import scipy as sp\n",
    "import numpy as np\n",
    "import ot\n",
    "\n",
    "def ot_distance(emb1, emb2):\n",
    "    ## Normalize distances\n",
    "    C1, C2 = emb1, emb2\n",
    "    print(C1.shape, C2.shape)\n",
    "    C1 = (C1 - C1.min())/C1.max()\n",
    "    C2 = (C2 - C2.min())/C2.max()\n",
    "\n",
    "    p = ot.unif(C1.shape[0])\n",
    "    q = ot.unif(C2.shape[0])\n",
    "\n",
    "    gw0, log0 = ot.gromov.gromov_wasserstein(\n",
    "        C1, C2, p, q, 'square_loss', verbose=True, log=True)\n",
    "\n",
    "    gw, log = ot.gromov.entropic_gromov_wasserstein(\n",
    "        C1, C2, p, q, 'square_loss', epsilon=5e-4, log=True, verbose=True)\n",
    "\n",
    "    print('Gromov-Wasserstein distances: ' + str(log0['gw_dist']))\n",
    "    print('Entropic Gromov-Wasserstein distances: ' + str(log['gw_dist']))\n",
    "    \n",
    "    return log0['gw_dist'], log['gw_dist']"
   ]
  },
  {
   "cell_type": "markdown",
   "id": "3279401d",
   "metadata": {},
   "source": [
    "### compute G-W distance using the core set of each dataset"
   ]
  },
  {
   "cell_type": "code",
   "execution_count": 13,
   "id": "c3864b33",
   "metadata": {},
   "outputs": [],
   "source": [
    "val_C = sp.spatial.distance.cdist(val_embeddings[val_cluster], val_embeddings[val_cluster])\n",
    "test_C = sp.spatial.distance.cdist(test_embeddings[test_cluster], test_embeddings[test_cluster])\n",
    "bay_C = sp.spatial.distance.cdist(bay_embeddings[bay_cluster], bay_embeddings[bay_cluster])\n",
    "pm25_C = sp.spatial.distance.cdist(pm25_embeddings[pm25_cluster], pm25_embeddings[pm25_cluster])\n",
    "pm10_C = sp.spatial.distance.cdist(pm10_embeddings[pm10_cluster], pm10_embeddings[pm10_cluster])"
   ]
  },
  {
   "cell_type": "code",
   "execution_count": 14,
   "id": "d2fcbe0d",
   "metadata": {},
   "outputs": [
    {
     "name": "stdout",
     "output_type": "stream",
     "text": [
      "(100, 100) (100, 100)\n",
      "It.  |Loss        |Relative loss|Absolute loss\n",
      "------------------------------------------------\n",
      "    0|4.042531e-02|0.000000e+00|0.000000e+00\n",
      "    1|1.765360e-02|1.289918e+00|2.277170e-02\n",
      "    2|1.765360e-02|0.000000e+00|0.000000e+00\n",
      "It.  |Err         \n",
      "-------------------\n",
      "    0|2.554424e-02|\n",
      "   10|3.641329e-03|\n",
      "   20|4.910716e-13|\n",
      "Gromov-Wasserstein distances: 0.017653603370687873\n",
      "Entropic Gromov-Wasserstein distances: 0.014928391542709167\n"
     ]
    },
    {
     "data": {
      "text/plain": [
       "(0.017653603370687873, 0.014928391542709167)"
      ]
     },
     "execution_count": 14,
     "metadata": {},
     "output_type": "execute_result"
    }
   ],
   "source": [
    "ot_distance(pm10_C, val_C)"
   ]
  },
  {
   "cell_type": "code",
   "execution_count": null,
   "id": "75dbe807",
   "metadata": {},
   "outputs": [],
   "source": []
  }
 ],
 "metadata": {
  "kernelspec": {
   "display_name": "Python 3 (ipykernel)",
   "language": "python",
   "name": "python3"
  },
  "language_info": {
   "codemirror_mode": {
    "name": "ipython",
    "version": 3
   },
   "file_extension": ".py",
   "mimetype": "text/x-python",
   "name": "python",
   "nbconvert_exporter": "python",
   "pygments_lexer": "ipython3",
   "version": "3.8.0"
  }
 },
 "nbformat": 4,
 "nbformat_minor": 5
}
