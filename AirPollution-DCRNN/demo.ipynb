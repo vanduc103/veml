{
 "cells": [
  {
   "cell_type": "code",
   "execution_count": null,
   "id": "9f85a002",
   "metadata": {
    "scrolled": true
   },
   "outputs": [],
   "source": [
    "! python dcrnn_train_pytorch.py --config_filename data/config/pollution_pm10.yaml\n",
    "\n"
   ]
  },
  {
   "cell_type": "code",
   "execution_count": null,
   "id": "0b321969",
   "metadata": {},
   "outputs": [],
   "source": [
    "! python run_demo_pytorch.py --config_filename data/config/pollution_pm25_test.yaml\n",
    "\n"
   ]
  },
  {
   "cell_type": "code",
   "execution_count": null,
   "id": "ecf9c60b",
   "metadata": {},
   "outputs": [],
   "source": [
    "pm25, MAE : 7.269636188067642\n",
    "pm10, MAE : 13.015763698839674"
   ]
  },
  {
   "cell_type": "code",
   "execution_count": null,
   "id": "75dbe807",
   "metadata": {},
   "outputs": [],
   "source": []
  }
 ],
 "metadata": {
  "kernelspec": {
   "display_name": "Python 3 (ipykernel)",
   "language": "python",
   "name": "python3"
  },
  "language_info": {
   "codemirror_mode": {
    "name": "ipython",
    "version": 3
   },
   "file_extension": ".py",
   "mimetype": "text/x-python",
   "name": "python",
   "nbconvert_exporter": "python",
   "pygments_lexer": "ipython3",
   "version": "3.8.0"
  }
 },
 "nbformat": 4,
 "nbformat_minor": 5
}
