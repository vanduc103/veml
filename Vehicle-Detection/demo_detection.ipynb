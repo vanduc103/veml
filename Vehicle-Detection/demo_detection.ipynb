{
 "cells": [
  {
   "cell_type": "code",
   "execution_count": null,
   "id": "5830b2f2",
   "metadata": {
    "scrolled": true
   },
   "outputs": [],
   "source": [
    "! python train.py configs/katech/faster_rcnn_r50_fpn_1x_det_katech_bdd.py --work-dir ../training_log/katech/faster\n",
    "\n",
    "\n"
   ]
  },
  {
   "cell_type": "code",
   "execution_count": null,
   "id": "9abfb61a",
   "metadata": {
    "scrolled": false
   },
   "outputs": [],
   "source": [
    "! python test.py configs/katech/faster_rcnn_r50_fpn_1x_det_katech_bdd.py --format-dir ../training_log/katech/faster/ --format-only\n",
    "\n"
   ]
  },
  {
   "cell_type": "code",
   "execution_count": null,
   "id": "406dc645",
   "metadata": {},
   "outputs": [],
   "source": []
  }
 ],
 "metadata": {
  "kernelspec": {
   "display_name": "Python 3 (ipykernel)",
   "language": "python",
   "name": "python3"
  },
  "language_info": {
   "codemirror_mode": {
    "name": "ipython",
    "version": 3
   },
   "file_extension": ".py",
   "mimetype": "text/x-python",
   "name": "python",
   "nbconvert_exporter": "python",
   "pygments_lexer": "ipython3",
   "version": "3.8.0"
  }
 },
 "nbformat": 4,
 "nbformat_minor": 5
}
