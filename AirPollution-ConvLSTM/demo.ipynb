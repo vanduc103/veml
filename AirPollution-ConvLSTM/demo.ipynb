{
 "cells": [
  {
   "cell_type": "code",
   "execution_count": null,
   "id": "9f12d540",
   "metadata": {
    "scrolled": true
   },
   "outputs": [],
   "source": [
    "! python main.py --convlstm --filepath data/mydata/pollutionPM10.h5 --savedir save_model/convlstm/pm10/\n",
    "\n"
   ]
  },
  {
   "cell_type": "code",
   "execution_count": null,
   "id": "58811e69",
   "metadata": {},
   "outputs": [],
   "source": [
    "lstm 2 layers, test mae: 17.385664\n",
    "gru: test mae: 17.300528 \n",
    "lstm: test mae: 17.255705\n",
    "        \n",
    "lstm 2 layers, test mae: 10.282805 \n",
    "gru: test mae: 10.143934\n",
    "lstm: test mae: 10.134262"
   ]
  },
  {
   "cell_type": "code",
   "execution_count": null,
   "id": "a7770a58",
   "metadata": {},
   "outputs": [],
   "source": []
  }
 ],
 "metadata": {
  "kernelspec": {
   "display_name": "Python 3 (ipykernel)",
   "language": "python",
   "name": "python3"
  },
  "language_info": {
   "codemirror_mode": {
    "name": "ipython",
    "version": 3
   },
   "file_extension": ".py",
   "mimetype": "text/x-python",
   "name": "python",
   "nbconvert_exporter": "python",
   "pygments_lexer": "ipython3",
   "version": "3.8.0"
  }
 },
 "nbformat": 4,
 "nbformat_minor": 5
}
