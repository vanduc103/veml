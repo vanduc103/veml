{
 "cells": [
  {
   "cell_type": "code",
   "execution_count": null,
   "id": "ffbf45a9",
   "metadata": {
    "scrolled": true
   },
   "outputs": [],
   "source": [
    "! python dcrnn_train_pytorch.py --config_filename data/model/dcrnn_la_v3.yaml\n",
    "\n"
   ]
  },
  {
   "cell_type": "code",
   "execution_count": null,
   "id": "88e536a9",
   "metadata": {},
   "outputs": [],
   "source": [
    "! python run_demo_pytorch.py --config_filename data/model/dcrnn_la_v3_test.yaml\n",
    "\n"
   ]
  },
  {
   "cell_type": "code",
   "execution_count": null,
   "id": "653fc73d",
   "metadata": {},
   "outputs": [],
   "source": [
    "metr-la, MAE : 3.047030671879097\n",
    "metr-la (rnn 128), MAE : 3.0678397152158947\n",
    "metr-la (3 layers), MAE : 3.068077920763581\n",
    "\n",
    "pems-bay, MAE : 1.6260949139595031\n",
    "pems-bay (rnn 128), MAE : 1.680503601551056\n",
    "pems-bay (3 layers), MAE : 1.6657426371574402"
   ]
  }
 ],
 "metadata": {
  "kernelspec": {
   "display_name": "Python 3 (ipykernel)",
   "language": "python",
   "name": "python3"
  },
  "language_info": {
   "codemirror_mode": {
    "name": "ipython",
    "version": 3
   },
   "file_extension": ".py",
   "mimetype": "text/x-python",
   "name": "python",
   "nbconvert_exporter": "python",
   "pygments_lexer": "ipython3",
   "version": "3.8.0"
  }
 },
 "nbformat": 4,
 "nbformat_minor": 5
}
