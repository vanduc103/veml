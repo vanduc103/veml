{
 "cells": [
  {
   "cell_type": "code",
   "execution_count": null,
   "metadata": {},
   "outputs": [],
   "source": [
    "### use fiftyone lib from voxel51 to learn embedding for object detection datasets\n",
    "import fiftyone as fo\n",
    "import fiftyone.zoo as foz"
   ]
  },
  {
   "cell_type": "code",
   "execution_count": null,
   "metadata": {},
   "outputs": [],
   "source": [
    "# load a resnet50 CNN model that trained on the imagenet dataset\n",
    "model = foz.load_zoo_model('resnet50-imagenet-torch')"
   ]
  },
  {
   "cell_type": "markdown",
   "metadata": {},
   "source": [
    "### k-center greedy algorithm"
   ]
  },
  {
   "cell_type": "code",
   "execution_count": 3,
   "metadata": {},
   "outputs": [],
   "source": [
    "import numpy as np\n",
    "from sklearn.metrics import pairwise_distances\n",
    "\n",
    "def update_distances(features, cluster_center, min_dist, only_new=True, reset_dist=False):\n",
    "    if reset_dist:\n",
    "      min_dist = None\n",
    "    if cluster_center:\n",
    "      # Update min_distances for all examples given new cluster center.\n",
    "      x = features[cluster_center]\n",
    "      dist = pairwise_distances(features, x, metric='euclidean')\n",
    "\n",
    "      if min_dist is None:\n",
    "        min_dist = np.min(dist, axis=1).reshape(-1,1)\n",
    "      else:\n",
    "        min_dist = np.minimum(min_dist, dist)\n",
    "        \n",
    "    return min_dist\n",
    "        \n",
    "def k_center(features, k, **kwargs):\n",
    "    cluster_centers = []\n",
    "    cluster_delta = []\n",
    "    k_delta = 0\n",
    "    n_obs = features.shape[0]\n",
    "    min_dist = None\n",
    "\n",
    "    for _ in range(k):\n",
    "      if min_dist is None:\n",
    "        # Initialize centers with a randomly selected datapoint\n",
    "        ind = np.random.choice(np.arange(n_obs))\n",
    "        #ind = 0\n",
    "      else:\n",
    "        ind = np.argmax(min_dist)\n",
    "\n",
    "      min_dist = update_distances(features, [ind], min_dist, only_new=True, reset_dist=False)\n",
    "      cluster_centers.append(ind)\n",
    "      k_delta = max(min_dist)\n",
    "      cluster_delta.append(k_delta)\n",
    "    print('Maximum distance from cluster centers is %0.2f'\n",
    "            % k_delta)\n",
    "\n",
    "    return cluster_centers, cluster_delta"
   ]
  },
  {
   "cell_type": "markdown",
   "metadata": {},
   "source": [
    "### object detection datasets loading"
   ]
  },
  {
   "cell_type": "code",
   "execution_count": null,
   "metadata": {},
   "outputs": [],
   "source": [
    "# load COCO 2017 dataset (do not need to download dataset separately)\n",
    "coco = foz.load_zoo_dataset(\n",
    "    \"coco-2017\",\n",
    "    split=\"validation\",\n",
    ")"
   ]
  },
  {
   "cell_type": "code",
   "execution_count": null,
   "metadata": {},
   "outputs": [],
   "source": [
    "# load BDD dataset, need to download the dataset manually\n",
    "source_dir = \"../bdd100k/\"\n",
    "bdd = foz.load_zoo_dataset('bdd100k', split='validation')"
   ]
  },
  {
   "cell_type": "code",
   "execution_count": null,
   "metadata": {},
   "outputs": [],
   "source": [
    "#load Cityscapes dataset, need to download the dataset manually\n",
    "source_dir = \"../cityscapes/\"\n",
    "city = foz.load_zoo_dataset('cityscapes', split='validation', source_dir=source_dir)"
   ]
  },
  {
   "cell_type": "code",
   "execution_count": null,
   "metadata": {},
   "outputs": [],
   "source": [
    "# load KITTI dataset, do not need to download dataset separately\n",
    "kitti = foz.load_zoo_dataset('kitti', split='test')"
   ]
  },
  {
   "cell_type": "code",
   "execution_count": null,
   "metadata": {},
   "outputs": [],
   "source": [
    "# load PASCAL VOC 2012 dataset, do not need to download dataset separately\n",
    "voc = foz.load_zoo_dataset('voc-2012', split='validation')"
   ]
  },
  {
   "cell_type": "code",
   "execution_count": null,
   "metadata": {},
   "outputs": [],
   "source": [
    "# load our real-world driving image data version from our version management system\n",
    "proj_name = 'Self Driving Project'\n",
    "dan_port = '55299'\n",
    "import sys\n",
    "sys.path.insert(0,'dataset')\n",
    "import katech_dataset\n",
    "from katech_dataset import KATECHDetectionDataset\n",
    "# add images\n",
    "samples = []\n",
    "data_versions = ['D0821']\n",
    "for data_version in data_versions:\n",
    "    print(data_version)\n",
    "    dataset = KATECHDetectionDataset(dan_port, proj_name, data_version, 'train', \n",
    "                                          katech_dataset.get_transform(train=False))\n",
    "    for _, image in enumerate(dataset.images):\n",
    "        sample = fo.Sample(filepath=image['path'])\n",
    "        samples.append(sample)\n",
    "# create data set\n",
    "katech1 = fo.Dataset('D0821-dataset')\n",
    "katech1.add_samples(samples)"
   ]
  },
  {
   "cell_type": "markdown",
   "metadata": {},
   "source": [
    "### classification datasets loading"
   ]
  },
  {
   "cell_type": "code",
   "execution_count": null,
   "metadata": {
    "scrolled": true
   },
   "outputs": [],
   "source": [
    "# load MNIST dataset\n",
    "mnist =  foz.load_zoo_dataset(\"mnist\", split=\"test\")"
   ]
  },
  {
   "cell_type": "code",
   "execution_count": null,
   "metadata": {},
   "outputs": [],
   "source": [
    "# load CIFAR10 dataset\n",
    "cifar10 =  foz.load_zoo_dataset(\"cifar10\", split=\"test\")"
   ]
  },
  {
   "cell_type": "code",
   "execution_count": null,
   "metadata": {},
   "outputs": [],
   "source": [
    "# load MNIST-FASHION dataset\n",
    "fashion = foz.load_zoo_dataset(\"fashion-mnist\", split=\"test\")"
   ]
  },
  {
   "cell_type": "markdown",
   "metadata": {},
   "source": [
    "### compute dataset embedding"
   ]
  },
  {
   "cell_type": "code",
   "execution_count": null,
   "metadata": {},
   "outputs": [],
   "source": [
    "# object detection datasets\n",
    "coco_emb = coco.compute_embeddings(model, num_workers=16)\n",
    "bdd_emb = bdd.compute_embeddings(model, num_workers=16)\n",
    "cityscapes_emb = city.compute_embeddings(model, num_workers=16)\n",
    "kitti_emb = kitti.compute_embeddings(model, num_workers=16)\n",
    "katech1_emb = katech1.compute_embeddings(model, num_workers=16)\n",
    "\n",
    "# classification datasets\n",
    "cifar10_emb = cifar10.compute_embeddings(model, num_workers=16)\n",
    "mnist_emb = mnist.compute_embeddings(model, num_workers=16)\n",
    "fashion_emb = fashion.compute_embeddings(model, num_workers=16)"
   ]
  },
  {
   "cell_type": "markdown",
   "metadata": {},
   "source": [
    "### compute core set of each dataset as a k-center computation using greedy algorithm (k=10)"
   ]
  },
  {
   "cell_type": "code",
   "execution_count": null,
   "metadata": {},
   "outputs": [],
   "source": [
    "# object detection datasets\n",
    "coco_cluster, coco_delta = k_center(coco_emb, 10)\n",
    "kitti_cluster, kitti_delta = k_center(kitti_emb, 10)\n",
    "bdd_cluster, bdd_delta = k_center(bdd_emb, 10)\n",
    "cityscapes_cluster, cityscapes_delta = k_center(cityscapes_emb, 10)\n",
    "katech1_cluster, katech1_delta = k_center(katech1_emb, 10)\n",
    "\n",
    "# classification datasets\n",
    "cifar10_cluster, cifar10_delta = k_center(cifar10_emb, 10)\n",
    "mnist_cluster, mnist_delta = k_center(mnist_emb, 10)\n",
    "fashion_cluster, fashion_delta = k_center(fashion_emb, 10)"
   ]
  },
  {
   "cell_type": "markdown",
   "metadata": {},
   "source": [
    "### compute pairwise distance between each dataset using all data samples"
   ]
  },
  {
   "cell_type": "code",
   "execution_count": null,
   "metadata": {},
   "outputs": [],
   "source": [
    "dd = pairwise_distances(coco_emb, katech1_emb)\n",
    "print(np.mean(dd))\n",
    "dd = pairwise_distances(bdd_emb, katech1_emb)\n",
    "print(np.mean(dd))\n",
    "dd = pairwise_distances(kitti_emb, katech1_emb)\n",
    "print(np.mean(dd))\n",
    "dd = pairwise_distances(cityscapes_emb, katech1_emb)\n",
    "print(np.mean(dd))"
   ]
  },
  {
   "cell_type": "markdown",
   "metadata": {},
   "source": [
    "### compute pairwise distance between each dataset using their core sets"
   ]
  },
  {
   "cell_type": "code",
   "execution_count": 364,
   "metadata": {},
   "outputs": [
    {
     "name": "stdout",
     "output_type": "stream",
     "text": [
      "22.45616293510311\n",
      "12.568231143192158\n",
      "10.32389547798818\n",
      "22.374163230166786\n",
      "21.872829284294383\n"
     ]
    }
   ],
   "source": [
    "dd = pairwise_distances(coco_emb[coco_cluster], bdd_emb[bdd_cluster])\n",
    "print(np.mean(dd))\n",
    "dd = pairwise_distances(bdd_emb[bdd_cluster], city_emb[city_cluster])\n",
    "print(np.mean(dd))\n",
    "dd = pairwise_distances(city_emb[city_cluster], kitti_emb[kitti_cluster])\n",
    "print(np.mean(dd))\n",
    "dd = pairwise_distances(kitti_emb[kitti_cluster], voc_emb[voc_cluster])\n",
    "print(np.mean(dd))\n",
    "dd = pairwise_distances(voc_emb[voc_cluster], katech1_emb[katech1_cluster])\n",
    "print(np.mean(dd))"
   ]
  },
  {
   "cell_type": "code",
   "execution_count": 588,
   "metadata": {},
   "outputs": [
    {
     "name": "stdout",
     "output_type": "stream",
     "text": [
      "24.39969271968268\n",
      "28.172643435389322\n",
      "32.22887416115161\n",
      "33.46390624008123\n"
     ]
    }
   ],
   "source": [
    "dd = pairwise_distances(mnist_emb[mnist_cluster], svhn_emb[svhn_cluster])\n",
    "print(np.mean(dd))\n",
    "dd = pairwise_distances(mnist_emb[mnist_cluster], fashion_emb[fashion_cluster])\n",
    "print(np.mean(dd))\n",
    "dd = pairwise_distances(mnist_emb[mnist_cluster], cifar10_emb[cifar10_cluster])\n",
    "print(np.mean(dd))\n",
    "dd = pairwise_distances(svhn_emb[svhn_cluster], cifar10_emb[cifar10_cluster])\n",
    "print(np.mean(dd))"
   ]
  },
  {
   "cell_type": "code",
   "execution_count": null,
   "metadata": {},
   "outputs": [],
   "source": []
  }
 ],
 "metadata": {
  "kernelspec": {
   "display_name": "Python 3 (ipykernel)",
   "language": "python",
   "name": "python3"
  },
  "language_info": {
   "codemirror_mode": {
    "name": "ipython",
    "version": 3
   },
   "file_extension": ".py",
   "mimetype": "text/x-python",
   "name": "python",
   "nbconvert_exporter": "python",
   "pygments_lexer": "ipython3",
   "version": "3.8.0"
  }
 },
 "nbformat": 4,
 "nbformat_minor": 2
}
